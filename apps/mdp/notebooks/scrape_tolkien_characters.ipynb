{
 "cells": [
  {
   "cell_type": "code",
   "execution_count": null,
   "id": "e469e3be",
   "metadata": {},
   "outputs": [],
   "source": [
    "from pathlib import Path\n",
    "from dotenv import load_dotenv\n",
    "load_dotenv(dotenv_path=Path().resolve().parent / \".env\")\n",
    "import os\n",
    "import json\n",
    "import requests\n",
    "from bs4 import BeautifulSoup, NavigableString\n",
    "from azure.storage.blob import BlobServiceClient\n",
    "import re\n",
    "import cloudscraper\n"
   ]
  },
  {
   "cell_type": "code",
   "execution_count": null,
   "id": "5e3278b8",
   "metadata": {},
   "outputs": [],
   "source": [
    "def upload_to_blob(data, blob_name):\n",
    "    connection_string = os.getenv(\"AZURE_STORAGE_CONNECTION_STRING\")\n",
    "    if not connection_string:\n",
    "        raise Exception(\"Missing AZURE_STORAGE_CONNECTION_STRING environment variable.\")\n",
    "    blob_service_client = BlobServiceClient.from_connection_string(connection_string)\n",
    "    container_client = blob_service_client.get_container_client(\"datafactory\")\n",
    "    blob_client = container_client.get_blob_client(blob_name)\n",
    "    blob_client.upload_blob(json.dumps(data, indent=2, ensure_ascii=False), overwrite=True)\n",
    "    print(f\"Uploaded {blob_name} to Azure Blob Storage.\")"
   ]
  },
  {
   "cell_type": "code",
   "execution_count": null,
   "id": "ab6c9ea8",
   "metadata": {},
   "outputs": [],
   "source": [
    "def scrape_character(name):\n",
    "    api_url = \"https://tolkiengateway.net/w/api.php\"\n",
    "    params = {\n",
    "        \"action\": \"parse\",\n",
    "        \"page\": name,\n",
    "        \"prop\": \"text\",\n",
    "        \"format\": \"json\",\n",
    "        \"formatversion\": \"2\",\n",
    "        \"origin\": \"*\"\n",
    "    }\n",
    "    headers = {\n",
    "        \"User-Agent\": \"Mozilla/5.0\",\n",
    "        \"Accept\": \"application/json\"\n",
    "    }\n",
    "    scraper = cloudscraper.create_scraper()\n",
    "    response = scraper.get(api_url, headers=headers, params=params)\n",
    "    try:\n",
    "        data_json = response.json()\n",
    "    except Exception as e:\n",
    "        print(\"Failed to decode JSON:\", e)\n",
    "        print(\"Response text:\", response.text)\n",
    "        return {}\n",
    "    html = data_json.get(\"parse\", {}).get(\"text\", \"\")\n",
    "    soup = BeautifulSoup(html, 'lxml')\n",
    "    data = {\"name\": name, \"source\": f\"https://tolkiengateway.net/wiki/{name}\"}\n",
    "    for row in soup.find_all(\"tr\"):\n",
    "        th = row.find(\"th\", class_=\"tg-infobox-label\")\n",
    "        td = row.find(\"td\", class_=\"tg-infobox-data\")\n",
    "        if th and td:\n",
    "            key = th.get_text(strip=True).replace(\" \", \"_\").replace(\"’\", \"\").lower()\n",
    "            values = [text for text in td.stripped_strings if not text.startswith(\"[\")]\n",
    "            data[key] = values if len(values) > 1 else values[0] if values else \"\"\n",
    "    return data"
   ]
  },
  {
   "cell_type": "code",
   "execution_count": null,
   "id": "0d37c053",
   "metadata": {},
   "outputs": [],
   "source": [
    "def clean_character_data(data):\n",
    "    cleaned = {}\n",
    "    comma_fields = {\n",
    "        \"titles\", \"position\", \"location\", \"language\", \"birth\", \"rule\",\n",
    "        \"death\", \"notable_for\", \"house\", \"parentage\", \"children\",\n",
    "        \"clothing\", \"steed\"\n",
    "    }\n",
    "    for key, value in data.items():\n",
    "        if isinstance(value, list):\n",
    "            filtered = [v.strip(\", \").strip() for v in value if v.strip() and v.lower() not in ['see below', 'and']]\n",
    "            if key in comma_fields:\n",
    "                joined = ', '.join(filtered)\n",
    "            else:\n",
    "                joined = ' '.join(filtered)\n",
    "            joined = re.sub(r\"\\s*'\\s*\", \"'\", joined)\n",
    "            joined = re.sub(r'\\s+', ' ', joined).strip()\n",
    "            if \"Ã\" in joined:\n",
    "                joined = joined.encode(\"latin1\", errors=\"replace\").decode(\"utf-8\", errors=\"replace\")\n",
    "            cleaned[key] = joined\n",
    "        else:\n",
    "            cleaned[key] = value.strip() if isinstance(value, str) else value\n",
    "    return cleaned"
   ]
  },
  {
   "cell_type": "code",
   "execution_count": null,
   "id": "9868ca65",
   "metadata": {},
   "outputs": [],
   "source": [
    "character_names = [\n",
    "    \"Aragorn\", \"Frodo_Baggins\", \"Samwise_Gamgee\", \"Gandalf\", \"Legolas\",\n",
    "    \"Gimli\", \"Boromir\", \"Elrond\", \"Galadriel\", \"Arwen\", \"Bilbo_Baggins\",\n",
    "    \"Sauron\", \"Saruman\", \"Gollum\", \"Théoden\", \"Éowyn\", \"Éomer\",\n",
    "    \"Denethor_II\", \"Faramir\", \"Treebeard\", \"Radagast\", \"Glorfindel\",\n",
    "    \"Shelob\", \"Lurtz\", \"Gríma\", \"Isildur\", \"Anárion\", \"Círdan\",\n",
    "    \"Celebrimbor\", \"Thranduil\", \"Bard\", \"Smaug\", \"Balin\", \"Dáin_II\",\n",
    "    \"Bifur\", \"Bofur\", \"Bombur\", \"Dori\", \"Dwalin\", \"Fíli\", \"Kíli\",\n",
    "    \"Nori\", \"Óin\", \"Ori\", \"Tom_Bombadil\", \"Goldberry\", \"Rosie_Cotton\",\n",
    "    \"Halbarad\", \"Gothmog\"\n",
    "]\n",
    "for character_name in character_names:\n",
    "    print(f\"Processing {character_name}...\")\n",
    "    character_data = scrape_character(character_name)\n",
    "    cleaned_data = clean_character_data(character_data)\n",
    "    upload_to_blob(cleaned_data, f\"characters/{character_name.replace(' ', '_')}.json\")"
   ]
  }
 ],
 "metadata": {
  "kernelspec": {
   "display_name": "Python 3",
   "language": "python",
   "name": "python3"
  },
  "language_info": {
   "name": "python"
  }
 },
 "nbformat": 4,
 "nbformat_minor": 5
}
