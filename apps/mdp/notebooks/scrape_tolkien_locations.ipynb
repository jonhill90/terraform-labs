{
 "cells": [
  {
   "cell_type": "code",
   "execution_count": null,
   "metadata": {},
   "outputs": [],
   "source": [
    "from pathlib import Path\n",
    "from dotenv import load_dotenv\n",
    "load_dotenv(dotenv_path=Path().resolve().parent / \".env\")\n",
    "\n",
    "import os\n",
    "import json\n",
    "import re\n",
    "import cloudscraper\n",
    "from bs4 import BeautifulSoup\n",
    "from azure.storage.blob import BlobServiceClient\n"
   ]
  },
  {
   "cell_type": "code",
   "execution_count": null,
   "metadata": {},
   "outputs": [],
   "source": [
    "def upload_to_blob(data, blob_name):\n",
    "    connection_string = os.getenv(\"AZURE_STORAGE_CONNECTION_STRING\")\n",
    "    if not connection_string:\n",
    "        raise Exception(\"Missing AZURE_STORAGE_CONNECTION_STRING environment variable.\")\n",
    "\n",
    "    blob_service_client = BlobServiceClient.from_connection_string(connection_string)\n",
    "    container_client = blob_service_client.get_container_client(\"datafactory\")\n",
    "    blob_client = container_client.get_blob_client(blob_name)\n",
    "\n",
    "    blob_client.upload_blob(json.dumps(data, indent=2, ensure_ascii=False), overwrite=True)\n",
    "    print(f\"Uploaded {blob_name} to Azure Blob Storage.\")\n"
   ]
  },
  {
   "cell_type": "code",
   "execution_count": null,
   "metadata": {},
   "outputs": [],
   "source": [
    "def scrape_location(name):\n",
    "    api_url = \"https://tolkiengateway.net/w/api.php\"\n",
    "    params = {\n",
    "        \"action\": \"parse\",\n",
    "        \"page\": name,\n",
    "        \"prop\": \"text\",\n",
    "        \"format\": \"json\",\n",
    "        \"formatversion\": \"2\",\n",
    "        \"origin\": \"*\"\n",
    "    }\n",
    "    headers = {\n",
    "        \"User-Agent\": \"Mozilla/5.0\",\n",
    "        \"Accept\": \"application/json\"\n",
    "    }\n",
    "\n",
    "    scraper = cloudscraper.create_scraper()\n",
    "    response = scraper.get(api_url, headers=headers, params=params)\n",
    "\n",
    "    try:\n",
    "        data_json = response.json()\n",
    "    except Exception as e:\n",
    "        print(\"Failed to decode JSON:\", e)\n",
    "        print(\"Response text:\", response.text)\n",
    "        return {}\n",
    "\n",
    "    html = data_json.get(\"parse\", {}).get(\"text\", \"\")\n",
    "    soup = BeautifulSoup(html, 'lxml')\n",
    "    data = {\"name\": name, \"source\": f\"https://tolkiengateway.net/wiki/{name}\"}\n",
    "\n",
    "    for row in soup.find_all(\"tr\"):\n",
    "        th = row.find(\"th\", class_=\"tg-infobox-label\")\n",
    "        td = row.find(\"td\", class_=\"tg-infobox-data\")\n",
    "        if th and td:\n",
    "            key = th.get_text(strip=True).replace(\" \", \"_\").replace(\"’\", \"\").lower()\n",
    "            values = [text for text in td.stripped_strings if not text.startswith(\"[\")]\n",
    "            data[key] = values if len(values) > 1 else values[0] if values else \"\"\n",
    "\n",
    "    return data\n"
   ]
  },
  {
   "cell_type": "code",
   "execution_count": null,
   "metadata": {},
   "outputs": [],
   "source": [
    "def clean_location_data(data):\n",
    "    cleaned = {}\n",
    "    comma_fields = {\n",
    "        \"other_names\", \"location\", \"population\", \"language\",\n",
    "        \"governance\", \"preceded_by\", \"founded\", \"first_siege\", \n",
    "        \"second_siege\", \"council_of_elrond\", \"abandoned\", \"gallery\"\n",
    "    }\n",
    "\n",
    "    for key, value in data.items():\n",
    "        if isinstance(value, list):\n",
    "            filtered = [v.strip(\", \").strip() for v in value if v.strip()]\n",
    "            joined = ', '.join(filtered) if key in comma_fields else ' '.join(filtered)\n",
    "            joined = re.sub(r\"\\s*'\\s*\", \"'\", joined)\n",
    "            joined = re.sub(r'\\s+', ' ', joined).strip()\n",
    "            joined = joined.encode('utf-8', errors='replace').decode('utf-8', errors='replace')\n",
    "            cleaned[key] = joined\n",
    "        else:\n",
    "            cleaned[key] = value.strip() if isinstance(value, str) else value\n",
    "\n",
    "    return cleaned\n"
   ]
  },
  {
   "cell_type": "code",
   "execution_count": null,
   "metadata": {},
   "outputs": [],
   "source": [
    "locations = [\n",
    "    \"Rivendell\",\n",
    "    \"Gondor\",\n",
    "    \"Mordor\",\n",
    "    \"Shire\",\n",
    "    \"Rohan\",\n",
    "    \"Arnor\",\n",
    "    \"Eriador\",\n",
    "    \"Lothlórien\",\n",
    "    \"Isengard\",\n",
    "    \"Mirkwood\"\n",
    "]\n",
    "\n",
    "for location_name in locations:\n",
    "    print(f\"Scraping {location_name}...\")\n",
    "    location_data = scrape_location(location_name)\n",
    "    cleaned_data = clean_location_data(location_data)\n",
    "    upload_to_blob(cleaned_data, f\"locations/{location_name.replace(' ', '_')}.json\")\n"
   ]
  }
 ],
 "metadata": {
  "kernelspec": {
   "display_name": "Python 3",
   "language": "python",
   "name": "python3"
  },
  "language_info": {
   "codemirror_mode": {
    "name": "ipython",
    "version": 3
   },
   "file_extension": ".py",
   "mimetype": "text/x-python",
   "name": "python",
   "nbconvert_exporter": "python",
   "pygments_lexer": "ipython3",
   "version": "3.8.5"
  }
 },
 "nbformat": 4,
 "nbformat_minor": 4
}
